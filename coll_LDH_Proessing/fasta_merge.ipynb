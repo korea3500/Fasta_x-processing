{
 "cells": [
  {
   "cell_type": "markdown",
   "id": "69c5fa21",
   "metadata": {},
   "source": [
    "## 0.1 Module & file import ##"
   ]
  },
  {
   "cell_type": "code",
   "execution_count": 1,
   "id": "14c1b77a",
   "metadata": {},
   "outputs": [],
   "source": [
    "import pandas as pd\n",
    "import numpy as np\n",
    "import os\n",
    "import glob\n",
    "\n",
    "dir_path = './Data/'\n",
    "file_list = glob.glob(dir_path + \"*.fasta\")"
   ]
  },
  {
   "cell_type": "markdown",
   "id": "000ba56d",
   "metadata": {},
   "source": [
    "## 1.1 Data merge ( outer join) ##"
   ]
  },
  {
   "cell_type": "code",
   "execution_count": 2,
   "id": "1e769ae3",
   "metadata": {},
   "outputs": [
    {
     "name": "stdout",
     "output_type": "stream",
     "text": [
      "now processing :  ./Data\\coll_LDH345_18-26.fasta\n",
      "now processing :  ./Data\\coll_LDH346_18-26.fasta\n",
      "now processing :  ./Data\\coll_LDH347_18-26.fasta\n",
      "now processing :  ./Data\\coll_LDH348_18-26.fasta\n",
      "now processing :  ./Data\\coll_LDH349_18-26.fasta\n",
      "now processing :  ./Data\\coll_LDH350_18-26.fasta\n",
      "now processing :  ./Data\\coll_LDH351_18-26.fasta\n",
      "now processing :  ./Data\\coll_LDH352_18-26.fasta\n",
      "now processing :  ./Data\\coll_LDH353_18-26.fasta\n",
      "now processing :  ./Data\\coll_LDH354_18-26.fasta\n",
      "now processing :  ./Data\\coll_LDH355_18-26.fasta\n",
      "now processing :  ./Data\\coll_LDH356_18-26.fasta\n",
      "now processing :  ./Data\\coll_LDH357_18-26.fasta\n",
      "now processing :  ./Data\\coll_LDH358_18-26.fasta\n",
      "now processing :  ./Data\\coll_LDH359_18-26.fasta\n",
      "now processing :  ./Data\\coll_LDH360_18-26.fasta\n",
      "now processing :  ./Data\\coll_LDH361_18-26.fasta\n"
     ]
    }
   ],
   "source": [
    "data_list = file_list[1:]\n",
    "output_df = pd.read_csv(file_list[0])\n",
    "for idx, i in enumerate(data_list) :\n",
    "    print(\"now processing : \", i)\n",
    "    output_df = pd.merge(output_df, pd.read_csv(data_list[idx]), on = 'sequence', how = 'outer')"
   ]
  },
  {
   "cell_type": "markdown",
   "id": "d71c3a68",
   "metadata": {},
   "source": [
    "## 1.2 Result file Save ##"
   ]
  },
  {
   "cell_type": "code",
   "execution_count": 3,
   "id": "431f153c",
   "metadata": {},
   "outputs": [],
   "source": [
    "output_df = output_df.fillna(\"N/A\")\n",
    "output_df.to_csv(dir_path + \"coll_LDH_MERGE_18_26.csv\", index = False, header = True)"
   ]
  },
  {
   "cell_type": "markdown",
   "id": "d4079ceb",
   "metadata": {},
   "source": [
    "## 2.1 Output File Validating ##"
   ]
  },
  {
   "cell_type": "code",
   "execution_count": 5,
   "id": "6d224397",
   "metadata": {},
   "outputs": [
    {
     "name": "stdout",
     "output_type": "stream",
     "text": [
      "result sequence length :  8646178\n"
     ]
    }
   ],
   "source": [
    "temp_list = []\n",
    "for idx, i in enumerate(file_list) :\n",
    "    temp_list += pd.read_csv(file_list[idx])['sequence'].tolist()\n",
    "    \n",
    "print(\"result sequence length : \", len(set(temp_list)))"
   ]
  }
 ],
 "metadata": {
  "kernelspec": {
   "display_name": "Python 3 (ipykernel)",
   "language": "python",
   "name": "python3"
  },
  "language_info": {
   "codemirror_mode": {
    "name": "ipython",
    "version": 3
   },
   "file_extension": ".py",
   "mimetype": "text/x-python",
   "name": "python",
   "nbconvert_exporter": "python",
   "pygments_lexer": "ipython3",
   "version": "3.7.13"
  }
 },
 "nbformat": 4,
 "nbformat_minor": 5
}
