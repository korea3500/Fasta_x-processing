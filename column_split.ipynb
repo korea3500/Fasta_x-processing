{
 "cells": [
  {
   "cell_type": "markdown",
   "id": "afa54b7b",
   "metadata": {},
   "source": [
    "## 0.1 Module & file Import ##"
   ]
  },
  {
   "cell_type": "code",
   "execution_count": 1,
   "id": "9fa264ae",
   "metadata": {},
   "outputs": [],
   "source": [
    "import pandas as pd\n",
    "import numpy as np\n",
    "import os\n",
    "import glob\n",
    "\n",
    "dir_path = 'D:/coll_LDH_20220610_fasta/'\n",
    "file_list = glob.glob(dir_path + \"*.fasta\")"
   ]
  },
  {
   "cell_type": "markdown",
   "id": "7b5f85b5",
   "metadata": {},
   "source": [
    "## 1.1 Data split & result file save ##"
   ]
  },
  {
   "cell_type": "code",
   "execution_count": 5,
   "id": "383bc4c1",
   "metadata": {},
   "outputs": [
    {
     "name": "stdout",
     "output_type": "stream",
     "text": [
      "now processing :  D:/coll_LDH_20220610_fasta\\coll_LDH344_18-26.fasta \n",
      "column_name :  LDH344\n",
      "now processing :  D:/coll_LDH_20220610_fasta\\coll_LDH345_18-26.fasta \n",
      "column_name :  LDH345\n",
      "now processing :  D:/coll_LDH_20220610_fasta\\coll_LDH346_18-26.fasta \n",
      "column_name :  LDH346\n",
      "now processing :  D:/coll_LDH_20220610_fasta\\coll_LDH347_18-26.fasta \n",
      "column_name :  LDH347\n",
      "now processing :  D:/coll_LDH_20220610_fasta\\coll_LDH348_18-26.fasta \n",
      "column_name :  LDH348\n",
      "now processing :  D:/coll_LDH_20220610_fasta\\coll_LDH349_18-26.fasta \n",
      "column_name :  LDH349\n",
      "now processing :  D:/coll_LDH_20220610_fasta\\coll_LDH350_18-26.fasta \n",
      "column_name :  LDH350\n",
      "now processing :  D:/coll_LDH_20220610_fasta\\coll_LDH351_18-26.fasta \n",
      "column_name :  LDH351\n",
      "now processing :  D:/coll_LDH_20220610_fasta\\coll_LDH352_18-26.fasta \n",
      "column_name :  LDH352\n",
      "now processing :  D:/coll_LDH_20220610_fasta\\coll_LDH353_18-26.fasta \n",
      "column_name :  LDH353\n",
      "now processing :  D:/coll_LDH_20220610_fasta\\coll_LDH354_18-26.fasta \n",
      "column_name :  LDH354\n",
      "now processing :  D:/coll_LDH_20220610_fasta\\coll_LDH355_18-26.fasta \n",
      "column_name :  LDH355\n",
      "now processing :  D:/coll_LDH_20220610_fasta\\coll_LDH356_18-26.fasta \n",
      "column_name :  LDH356\n",
      "now processing :  D:/coll_LDH_20220610_fasta\\coll_LDH357_18-26.fasta \n",
      "column_name :  LDH357\n",
      "now processing :  D:/coll_LDH_20220610_fasta\\coll_LDH358_18-26.fasta \n",
      "column_name :  LDH358\n",
      "now processing :  D:/coll_LDH_20220610_fasta\\coll_LDH359_18-26.fasta \n",
      "column_name :  LDH359\n",
      "now processing :  D:/coll_LDH_20220610_fasta\\coll_LDH360_18-26.fasta \n",
      "column_name :  LDH360\n",
      "now processing :  D:/coll_LDH_20220610_fasta\\coll_LDH361_18-26.fasta \n",
      "column_name :  LDH361\n"
     ]
    }
   ],
   "source": [
    "for idx, i in enumerate(file_list) :\n",
    "    column_name = file_list[idx].split(\"_\")[-2]\n",
    "    print(\"now processing : \", i, \"\\ncolumn_name : \", column_name)\n",
    "    input_df = pd.read_csv(file_list[idx], header = None)\n",
    "    \n",
    "    output_df = pd.DataFrame(columns = ['sequence', column_name])\n",
    "    output_df['sequence'] = input_df[~input_df[0].str.startswith('>')].reset_index(drop = True)[0] # series 형태로 값을 넣어주기 위해 컬럼명 0으로 데이터프레임 추출하여 진행\n",
    "    output_df[column_name] = input_df[input_df[0].str.startswith('>')].reset_index(drop = True)[0]\n",
    "    output_df[column_name] = output_df[column_name].str.replace('>', '')\n",
    "    output_df.to_csv(\"./Data/\" + file_list[idx].split(\"\\\\\")[1], index = False, header = True)\n",
    "    \n",
    "    "
   ]
  }
 ],
 "metadata": {
  "kernelspec": {
   "display_name": "Python 3 (ipykernel)",
   "language": "python",
   "name": "python3"
  },
  "language_info": {
   "codemirror_mode": {
    "name": "ipython",
    "version": 3
   },
   "file_extension": ".py",
   "mimetype": "text/x-python",
   "name": "python",
   "nbconvert_exporter": "python",
   "pygments_lexer": "ipython3",
   "version": "3.7.13"
  }
 },
 "nbformat": 4,
 "nbformat_minor": 5
}
